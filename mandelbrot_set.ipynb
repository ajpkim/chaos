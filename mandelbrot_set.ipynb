{
 "cells": [
  {
   "cell_type": "code",
   "execution_count": 1,
   "id": "8fe24314-7225-40a4-94ab-5a9f034d5d42",
   "metadata": {
    "collapsed": false,
    "jupyter": {
     "outputs_hidden": false
    }
   },
   "outputs": [],
   "source": [
    "import math\n",
    "\n",
    "import numba\n",
    "from numba import vectorize, boolean, int32, complex128, complex64\n",
    "\n",
    "import pandas as pd\n",
    "import matplotlib.pyplot as plt\n",
    "import numpy as np"
   ]
  },
  {
   "cell_type": "code",
   "execution_count": null,
   "id": "cc4db03c-c5fc-4201-92f6-80396103aa99",
   "metadata": {
    "collapsed": false,
    "jupyter": {
     "outputs_hidden": false
    }
   },
   "outputs": [],
   "source": [
    "@vectorize([int32(complex128, int32)])\n",
    "def mandelbrot_test(c: complex, max_iters: int = 1000) -> int:\n",
    "    z = 0 \n",
    "    for n in range(max_iters):\n",
    "        z = (z**2) + c\n",
    "        if abs(z) > 2:\n",
    "            return n\n",
    "    return max_iters\n",
    "\n",
    "def get_complex_grid(\n",
    "    real_min: float,\n",
    "    real_max: float,\n",
    "    n_real: int, \n",
    "    imag_min: float,\n",
    "    imag_max: float,\n",
    "    n_imag: int\n",
    ") -> np.ndarray:\n",
    "    real = np.linspace(real_min, real_max, n_real)\n",
    "    imag = np.linspace(imag_min, imag_max, n_imag)\n",
    "    return (real[np.newaxis, :] + imag[:, np.newaxis] * 1j).astype(np.complex64)\n",
    "    \n",
    "def plot_mandelbrot(set_data, xmin, xmax, ymin, ymax, cmap='hot'):\n",
    "    fig, ax = plt.subplots(figsize=(10,10))\n",
    "    img = ax.imshow(set_data, cmap=cmap, extent=[xmin, xmax, ymin, ymax])\n",
    "    fig.colorbar(img, ax=ax)\n",
    "\n",
    "    ax.set_title('Mandelbrot Set')\n",
    "    ax.set_xlabel('Re')\n",
    "    ax.set_ylabel('Im')\n",
    "    \n",
    "    return fig\n",
    "\n",
    "def get_mandelbrot_fig(real_min, real_max, n_real, imag_min, imag_max, n_imag, max_iters):\n",
    "    grid = get_complex_grid(real_min, real_max, n_real, imag_min, imag_max, n_imag)\n",
    "    mandelbrot_set_data = mandelbrot_test(grid, max_iters)\n",
    "    return plot_mandelbrot(mandelbrot_set_data, real_min, real_max, imag_min, imag_max)"
   ]
  },
  {
   "cell_type": "code",
   "execution_count": null,
   "id": "f89fe44c-271d-4e6f-933f-5d13b9ddf31d",
   "metadata": {},
   "outputs": [],
   "source": [
    "\"\"\"\n",
    "Create some figures.\n",
    "\"\"\"\n",
    "\n",
    "real_min = -2\n",
    "real_max = 1\n",
    "n_real = 10_000\n",
    "imag_min = -1.5\n",
    "imag_max = 1.5\n",
    "n_imag = 10_000\n",
    "max_iters = int32(10_000)\n",
    "\n",
    "fig = get_mandelbrot_fig(real_min, real_max, n_real, imag_min, imag_max, n_imag, max_iters)"
   ]
  }
 ],
 "metadata": {
  "kernelspec": {
   "display_name": "chaos",
   "language": "python",
   "name": "chaos"
  },
  "language_info": {
   "codemirror_mode": {
    "name": "ipython",
    "version": 3
   },
   "file_extension": ".py",
   "mimetype": "text/x-python",
   "name": "python",
   "nbconvert_exporter": "python",
   "pygments_lexer": "ipython3",
   "version": "3.11.5"
  },
  "name": "mandelbrot_set.ipynb"
 },
 "nbformat": 4,
 "nbformat_minor": 5
}
