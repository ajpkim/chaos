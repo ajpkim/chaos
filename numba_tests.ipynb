{
 "cells": [
  {
   "cell_type": "code",
   "execution_count": null,
   "id": "abac04dd-3814-4b54-af3c-c42e37251db7",
   "metadata": {},
   "outputs": [],
   "source": [
    "\"\"\"Exploring numba jit speedups.\"\"\""
   ]
  },
  {
   "cell_type": "code",
   "execution_count": null,
   "id": "581f5b90-1ac4-441a-90f6-5d28e4eaf4a4",
   "metadata": {},
   "outputs": [],
   "source": [
    "import random\n",
    "\n",
    "import numba\n",
    "import numpy as np"
   ]
  },
  {
   "cell_type": "code",
   "execution_count": null,
   "id": "74e28e30-1f83-4a8e-93eb-5966d2bac27a",
   "metadata": {},
   "outputs": [],
   "source": [
    "def monte_carlo_pi(nsamples):\n",
    "    acc = 0\n",
    "    for i in range(nsamples):\n",
    "        x = random.random()\n",
    "        y = random.random()\n",
    "        if (x ** 2 + y ** 2) < 1.0:\n",
    "            acc += 1\n",
    "    return 4.0 * acc / nsamples\n",
    "\n",
    "vectorized_monte_carlo_pi = numba.jit(monte_carlo_pi, nopython=True)\n",
    "\n",
    "def np_monte_carlo_pi(x, y):\n",
    "    acc = np.sum(x**2 + y **2 < 1)\n",
    "    return 4.0 * acc / len(x)\n",
    "\n",
    "vectorized_np_monte_carlo_pi = numba.jit(np_monte_carlo_pi, nopython=True)\n",
    "\n",
    "def loopy_np_monte_carlo_pi(x, y):\n",
    "    acc = 0\n",
    "    for i in range(x.shape[0]):\n",
    "        if (x[i] ** 2 + y[i] ** 2) < 1:\n",
    "            acc += 1\n",
    "    return 4.0 * acc / x.shape[0]\n",
    "\n",
    "vectorized_loopy_np_monte_carlo_pi = numba.jit(loopy_np_monte_carlo_pi, nopython=True)\n",
    "\n",
    "###\n",
    "\n",
    "%timeit monte_carlo_pi(1_000_000)\n",
    "%timeit vectorized_monte_carlo_pi(1_000_000)\n",
    "\n",
    "print('---')\n",
    "x = np.random.random(1_000_000)\n",
    "y = np.random.random(1_000_000)\n",
    "\n",
    "%timeit np_monte_carlo_pi(x, y)\n",
    "%timeit vectorized_np_monte_carlo_pi(x, y)\n",
    "\n",
    "print('---')\n",
    "%timeit loopy_np_monte_carlo_pi(x, y)\n",
    "%timeit vectorized_loopy_np_monte_carlo_pi(x, y)\n"
   ]
  }
 ],
 "metadata": {
  "kernelspec": {
   "display_name": "aiml",
   "language": "python",
   "name": "aiml"
  },
  "language_info": {
   "codemirror_mode": {
    "name": "ipython",
    "version": 3
   },
   "file_extension": ".py",
   "mimetype": "text/x-python",
   "name": "python",
   "nbconvert_exporter": "python",
   "pygments_lexer": "ipython3",
   "version": "3.11.5"
  }
 },
 "nbformat": 4,
 "nbformat_minor": 5
}
